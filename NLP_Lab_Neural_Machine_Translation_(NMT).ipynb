{
  "nbformat": 4,
  "nbformat_minor": 0,
  "metadata": {
    "colab": {
      "provenance": [],
      "gpuType": "T4"
    },
    "kernelspec": {
      "name": "python3",
      "display_name": "Python 3"
    },
    "language_info": {
      "name": "python"
    },
    "accelerator": "GPU"
  },
  "cells": [
    {
      "cell_type": "code",
      "execution_count": null,
      "metadata": {
        "id": "j04UL2MUuYnH"
      },
      "outputs": [],
      "source": [
        "import tensorflow as tf\n",
        "import numpy as np"
      ]
    },
    {
      "cell_type": "code",
      "source": [
        "from tensorflow import keras\n",
        "from keras.models import Model\n",
        "from keras.layers import Input, Dense, GRU, Embedding #, CuDNNGRU\n",
        "from keras.optimizers import RMSprop\n",
        "from keras.callbacks import ModelCheckpoint\n",
        "from keras.preprocessing.text import Tokenizer\n",
        "from keras.utils import pad_sequences"
      ],
      "metadata": {
        "id": "hGizaR3W4dnt"
      },
      "execution_count": null,
      "outputs": []
    },
    {
      "cell_type": "code",
      "source": [
        "mark_start = \"xxxx \"\n",
        "mark_end = \" yyyy\"\n",
        "\n",
        "# mark_start : Model çeviri yapmak için Decoder ile çeviri yapması gerekiyor.\n",
        "                # Bunu yapabilmesi için başlangıç olarak bir cümleye ihtiyacı var. mark_start bu başlangıcı sağlar.\n",
        "                # Kelimenin sonundaki boşluk çok önemli. Eğer boşluk olmazsa ürettiği kelimelerin başına xxxx koyarak anlamsız cümleler üretir.\n",
        "# mark_end   : mark_start'ın cümle sonuna gelen versiyonu ve aynı kurallar geçerlidir."
      ],
      "metadata": {
        "id": "GplCSHV946Dz"
      },
      "execution_count": null,
      "outputs": []
    },
    {
      "cell_type": "code",
      "source": [
        "data_src = []   # english data\n",
        "data_dest = []  # turkish data"
      ],
      "metadata": {
        "id": "fCJucYlx5tKH"
      },
      "execution_count": null,
      "outputs": []
    },
    {
      "cell_type": "code",
      "source": [
        "for line in open(\"tur.txt\", encoding=\"UTF-8\"):\n",
        "  en_text, tr_text = line.rstrip().split(\"\\t\")      # rstrip : Satırdaki gereksiz boşluk karakterlerini siler.\n",
        "  tr_text = mark_start + tr_text + mark_end\n",
        "  data_src.append(en_text)\n",
        "  data_dest.append(tr_text)"
      ],
      "metadata": {
        "id": "b8j7to4-6udr"
      },
      "execution_count": null,
      "outputs": []
    },
    {
      "cell_type": "code",
      "source": [
        "data_src[100]"
      ],
      "metadata": {
        "colab": {
          "base_uri": "https://localhost:8080/",
          "height": 35
        },
        "id": "lDNd2h2T7Snl",
        "outputId": "bb9a780b-1730-42ca-d449-029afb4331ac"
      },
      "execution_count": null,
      "outputs": [
        {
          "output_type": "execute_result",
          "data": {
            "text/plain": [
              "'I drove.'"
            ],
            "application/vnd.google.colaboratory.intrinsic+json": {
              "type": "string"
            }
          },
          "metadata": {},
          "execution_count": 6
        }
      ]
    },
    {
      "cell_type": "code",
      "source": [
        "data_dest[100]"
      ],
      "metadata": {
        "colab": {
          "base_uri": "https://localhost:8080/",
          "height": 35
        },
        "id": "A8uzqh3y7WBD",
        "outputId": "fc7c755e-bc7f-4684-ca30-d08293c4677a"
      },
      "execution_count": null,
      "outputs": [
        {
          "output_type": "execute_result",
          "data": {
            "text/plain": [
              "'xxxx Araba sürdüm. yyyy'"
            ],
            "application/vnd.google.colaboratory.intrinsic+json": {
              "type": "string"
            }
          },
          "metadata": {},
          "execution_count": 7
        }
      ]
    },
    {
      "cell_type": "code",
      "source": [
        "data_dest[200000]\n"
      ],
      "metadata": {
        "colab": {
          "base_uri": "https://localhost:8080/",
          "height": 35
        },
        "id": "05peCjOB7X8_",
        "outputId": "8b0d7db3-639f-46d0-bb8a-8d8887eba9b8"
      },
      "execution_count": null,
      "outputs": [
        {
          "output_type": "execute_result",
          "data": {
            "text/plain": [
              "'xxxx Eksik bir şey görebiliyor musun? yyyy'"
            ],
            "application/vnd.google.colaboratory.intrinsic+json": {
              "type": "string"
            }
          },
          "metadata": {},
          "execution_count": 8
        }
      ]
    },
    {
      "cell_type": "code",
      "source": [
        "len(data_src)"
      ],
      "metadata": {
        "colab": {
          "base_uri": "https://localhost:8080/"
        },
        "id": "TAA6l50t7aoM",
        "outputId": "79351fde-b686-42fb-a542-f5abd1628b84"
      },
      "execution_count": null,
      "outputs": [
        {
          "output_type": "execute_result",
          "data": {
            "text/plain": [
              "473035"
            ]
          },
          "metadata": {},
          "execution_count": 9
        }
      ]
    },
    {
      "cell_type": "code",
      "source": [
        "class TokenizerWrap(Tokenizer):\n",
        "  def __init__(self, texts, padding, reverse=False, num_words=None):\n",
        "    # texts   : tokenize yapılacak text\n",
        "    # padding : Token'ların başına mı sonuna mı padding uygulanacağını belirtir.\n",
        "    # reverse : truncating pre mi olacak yoksa post mu?\n",
        "      # Truncating: Gelen ınput'daki fazlalık olan(input limiti haricindeki) kısmın kesilme işlemine denir.\n",
        "        # pre : Token'lerin başından kesme işlemi yapılır.\n",
        "        # post : Token'lerin sonunudan kesme işlemi yapılır.\n",
        "      # Encoder için pre, Decoder için post kullanacağız.\n",
        "    Tokenizer.__init__(self, num_words=num_words)\n",
        "\n",
        "    self.fit_on_texts(texts)\n",
        "    self.index_to_word = dict(zip(self.word_index.values(), self.word_index.keys()))\n",
        "    self.tokens = self.texts_to_sequences(texts)\n",
        "\n",
        "    if reverse:\n",
        "      self.tokens = [list(reversed(x)) for x in self.tokens]\n",
        "      truncating = \"pre\"\n",
        "    else:\n",
        "      truncating = \"post\"\n",
        "\n",
        "\n",
        "    self.num_tokens = [len(x) for x in self.tokens]\n",
        "    self.max_tokens = np.mean(self.num_tokens) + 2 * np.std(self.num_tokens)\n",
        "    self.max_tokens = int(self.max_tokens)\n",
        "\n",
        "    self.tokens_padded = pad_sequences(self.tokens,\n",
        "                                       maxlen = self.max_tokens,\n",
        "                                       padding=padding,\n",
        "                                       truncating=truncating)\n",
        "\n",
        "  def token_to_word(self, token):\n",
        "    word = \" \" if token == 0 else self.index_to_word[token]\n",
        "    return word\n",
        "\n",
        "  def tokens_to_string(self, tokens):\n",
        "    words = [self.index_to_word[token] for token in tokens if token != 0]\n",
        "    text = \" \".join(words)\n",
        "    return text\n",
        "\n",
        "  def text_to_tokens(self, text, padding, reverse=False):\n",
        "    tokens = self.texts_to_sequences([text])\n",
        "    tokens = np.array(tokens)\n",
        "\n",
        "    if reverse:\n",
        "      tokens = np.flip(tokens, axis=1)\n",
        "      truncating = \"pre\"\n",
        "    else:\n",
        "      truncating = \"post\"\n",
        "\n",
        "    tokens = pad_sequences(tokens,\n",
        "                           maxlen=self.max_tokens,\n",
        "                           padding=padding,\n",
        "                           truncating=truncating)\n",
        "    return tokens\n"
      ],
      "metadata": {
        "id": "jsctKczw7d-M"
      },
      "execution_count": null,
      "outputs": []
    },
    {
      "cell_type": "code",
      "source": [
        "tokenizer_src = TokenizerWrap(texts=data_src,\n",
        "                              padding=\"pre\",\n",
        "                              reverse=True,\n",
        "                              num_words=None)"
      ],
      "metadata": {
        "id": "k7XLhrEo-Ub0"
      },
      "execution_count": null,
      "outputs": []
    },
    {
      "cell_type": "code",
      "source": [
        "tokenizer_dest = TokenizerWrap(texts=data_dest,\n",
        "                              padding=\"post\",\n",
        "                              reverse=False,\n",
        "                              num_words=None)"
      ],
      "metadata": {
        "id": "tPohHbul-pQj"
      },
      "execution_count": null,
      "outputs": []
    },
    {
      "cell_type": "code",
      "source": [
        "tokens_src = tokenizer_src.tokens_padded\n",
        "tokens_dest = tokenizer_dest.tokens_padded\n",
        "\n",
        "print(tokens_src.shape)\n",
        "print(tokens_dest.shape)"
      ],
      "metadata": {
        "colab": {
          "base_uri": "https://localhost:8080/"
        },
        "id": "gj7Mc-Ix-7jG",
        "outputId": "c1be7573-28ee-446f-b072-c1bfcea4ce6e"
      },
      "execution_count": null,
      "outputs": [
        {
          "output_type": "stream",
          "name": "stdout",
          "text": [
            "(473035, 11)\n",
            "(473035, 10)\n"
          ]
        }
      ]
    },
    {
      "cell_type": "code",
      "source": [
        "tokens_dest[200000]"
      ],
      "metadata": {
        "colab": {
          "base_uri": "https://localhost:8080/"
        },
        "id": "9wPLMdF8BRj5",
        "outputId": "f8f05f62-9ae5-4ec0-be7e-61baf47cc30b"
      },
      "execution_count": null,
      "outputs": [
        {
          "output_type": "execute_result",
          "data": {
            "text/plain": [
              "array([   1, 2391,    4,   18, 4127,   48,    2,    0,    0,    0],\n",
              "      dtype=int32)"
            ]
          },
          "metadata": {},
          "execution_count": 19
        }
      ]
    },
    {
      "cell_type": "code",
      "source": [
        "tokenizer_dest.tokens_to_string(tokens_dest[200000])"
      ],
      "metadata": {
        "colab": {
          "base_uri": "https://localhost:8080/",
          "height": 35
        },
        "id": "Z_cL_YC7Dv4c",
        "outputId": "5ec3bf5c-8d0b-491d-c298-f6a88cc7c93c"
      },
      "execution_count": null,
      "outputs": [
        {
          "output_type": "execute_result",
          "data": {
            "text/plain": [
              "'xxxx eksik bir şey görebiliyor musun yyyy'"
            ],
            "application/vnd.google.colaboratory.intrinsic+json": {
              "type": "string"
            }
          },
          "metadata": {},
          "execution_count": 20
        }
      ]
    },
    {
      "cell_type": "code",
      "source": [
        "tokens_src[200000]"
      ],
      "metadata": {
        "colab": {
          "base_uri": "https://localhost:8080/"
        },
        "id": "w668J14zD6ot",
        "outputId": "a5d417a6-6c9e-4cfd-9a39-9fcc902c9ac5"
      },
      "execution_count": null,
      "outputs": [
        {
          "output_type": "execute_result",
          "data": {
            "text/plain": [
              "array([   0,    0,    0,    0,    0,    0, 1028,  113,   95,    5,   39],\n",
              "      dtype=int32)"
            ]
          },
          "metadata": {},
          "execution_count": 21
        }
      ]
    },
    {
      "cell_type": "code",
      "source": [
        "tokenizer_src.tokens_to_string(tokens_src[200000])"
      ],
      "metadata": {
        "colab": {
          "base_uri": "https://localhost:8080/",
          "height": 35
        },
        "id": "l9_wqwBgECJ1",
        "outputId": "81c760d1-f46a-42c0-87cb-be85d4ef18d0"
      },
      "execution_count": null,
      "outputs": [
        {
          "output_type": "execute_result",
          "data": {
            "text/plain": [
              "'missing anything see you can'"
            ],
            "application/vnd.google.colaboratory.intrinsic+json": {
              "type": "string"
            }
          },
          "metadata": {},
          "execution_count": 22
        }
      ]
    },
    {
      "cell_type": "code",
      "source": [
        "token_start = tokenizer_dest.word_index[mark_start.strip()]\n",
        "token_start"
      ],
      "metadata": {
        "colab": {
          "base_uri": "https://localhost:8080/"
        },
        "id": "ha1fachBENUT",
        "outputId": "2a5bee9c-3427-4e91-877f-652135eb8ea0"
      },
      "execution_count": null,
      "outputs": [
        {
          "output_type": "execute_result",
          "data": {
            "text/plain": [
              "1"
            ]
          },
          "metadata": {},
          "execution_count": 23
        }
      ]
    },
    {
      "cell_type": "code",
      "source": [
        "token_end = tokenizer_dest.word_index[mark_end.strip()]\n",
        "token_end"
      ],
      "metadata": {
        "colab": {
          "base_uri": "https://localhost:8080/"
        },
        "id": "TOxSPEnLEjkt",
        "outputId": "f6958439-3065-46bd-fca7-7070aa0e6695"
      },
      "execution_count": null,
      "outputs": [
        {
          "output_type": "execute_result",
          "data": {
            "text/plain": [
              "2"
            ]
          },
          "metadata": {},
          "execution_count": 24
        }
      ]
    },
    {
      "cell_type": "code",
      "source": [
        "encoder_input_data = tokens_src"
      ],
      "metadata": {
        "id": "QEjIRnZnEpYu"
      },
      "execution_count": null,
      "outputs": []
    },
    {
      "cell_type": "code",
      "source": [
        "decoder_input_data = tokens_dest[:, :-1]\n",
        "decoder_output_data = tokens_dest[:, 1:]"
      ],
      "metadata": {
        "id": "RLb0uMWXEtxL"
      },
      "execution_count": null,
      "outputs": []
    },
    {
      "cell_type": "code",
      "source": [
        "encoder_input_data[200000]"
      ],
      "metadata": {
        "colab": {
          "base_uri": "https://localhost:8080/"
        },
        "id": "kxVCSlL7E4PP",
        "outputId": "0e397db4-91ec-4a18-80c1-a8d62ad37e4e"
      },
      "execution_count": null,
      "outputs": [
        {
          "output_type": "execute_result",
          "data": {
            "text/plain": [
              "array([   0,    0,    0,    0,    0,    0, 1028,  113,   95,    5,   39],\n",
              "      dtype=int32)"
            ]
          },
          "metadata": {},
          "execution_count": 31
        }
      ]
    },
    {
      "cell_type": "code",
      "source": [
        "decoder_input_data[200000]"
      ],
      "metadata": {
        "colab": {
          "base_uri": "https://localhost:8080/"
        },
        "id": "syAQwA1uE6_3",
        "outputId": "2e867de9-111c-44cd-f978-dd7f4ca717a8"
      },
      "execution_count": null,
      "outputs": [
        {
          "output_type": "execute_result",
          "data": {
            "text/plain": [
              "array([   1, 2391,    4,   18, 4127,   48,    2,    0,    0], dtype=int32)"
            ]
          },
          "metadata": {},
          "execution_count": 32
        }
      ]
    },
    {
      "cell_type": "code",
      "source": [
        "tokenizer_dest.tokens_to_string(decoder_input_data[200000])"
      ],
      "metadata": {
        "colab": {
          "base_uri": "https://localhost:8080/",
          "height": 35
        },
        "id": "n-ScqQEVFI_w",
        "outputId": "f65a4368-5f4c-4409-b013-ba58b38d8a40"
      },
      "execution_count": null,
      "outputs": [
        {
          "output_type": "execute_result",
          "data": {
            "text/plain": [
              "'xxxx eksik bir şey görebiliyor musun yyyy'"
            ],
            "application/vnd.google.colaboratory.intrinsic+json": {
              "type": "string"
            }
          },
          "metadata": {},
          "execution_count": 33
        }
      ]
    },
    {
      "cell_type": "code",
      "source": [
        "tokenizer_dest.tokens_to_string(decoder_output_data[200000])"
      ],
      "metadata": {
        "colab": {
          "base_uri": "https://localhost:8080/",
          "height": 35
        },
        "id": "5hHJ08MwFOf5",
        "outputId": "7ca62082-be16-4799-a706-0f8b7b8e4ce9"
      },
      "execution_count": null,
      "outputs": [
        {
          "output_type": "execute_result",
          "data": {
            "text/plain": [
              "'eksik bir şey görebiliyor musun yyyy'"
            ],
            "application/vnd.google.colaboratory.intrinsic+json": {
              "type": "string"
            }
          },
          "metadata": {},
          "execution_count": 34
        }
      ]
    },
    {
      "cell_type": "code",
      "source": [
        "num_encoder_words = len(tokenizer_src.word_index)\n",
        "num_decoder_words = len(tokenizer_dest.word_index)"
      ],
      "metadata": {
        "id": "MgKlrCX4FZnb"
      },
      "execution_count": null,
      "outputs": []
    },
    {
      "cell_type": "code",
      "source": [
        "num_encoder_words"
      ],
      "metadata": {
        "colab": {
          "base_uri": "https://localhost:8080/"
        },
        "id": "Tb-I93_-Fjso",
        "outputId": "81301b5c-4f3f-40a8-ba1a-7dd4786c4ed9"
      },
      "execution_count": null,
      "outputs": [
        {
          "output_type": "execute_result",
          "data": {
            "text/plain": [
              "21315"
            ]
          },
          "metadata": {},
          "execution_count": 36
        }
      ]
    },
    {
      "cell_type": "code",
      "source": [
        "num_decoder_words"
      ],
      "metadata": {
        "colab": {
          "base_uri": "https://localhost:8080/"
        },
        "id": "9sbFv_4aFk1J",
        "outputId": "da4cb0b4-6f8d-4c05-cbc8-80ebc720b829"
      },
      "execution_count": null,
      "outputs": [
        {
          "output_type": "execute_result",
          "data": {
            "text/plain": [
              "94058"
            ]
          },
          "metadata": {},
          "execution_count": 37
        }
      ]
    },
    {
      "cell_type": "code",
      "source": [
        "embedding_size = 100"
      ],
      "metadata": {
        "id": "Lwo6VkNzOSkn"
      },
      "execution_count": null,
      "outputs": []
    },
    {
      "cell_type": "code",
      "source": [
        "word2vec = {}\n",
        "with open(\"glove.6B.100d.txt\", encoding=\"UTF-8\") as f:\n",
        "  for line in f:\n",
        "    values = line.split()\n",
        "    word = values[0]\n",
        "    vec = np.asarray(values[1:], dtype=\"float32\")\n",
        "    word2vec[word] = vec"
      ],
      "metadata": {
        "id": "Apu5lclsFl7Q"
      },
      "execution_count": null,
      "outputs": []
    },
    {
      "cell_type": "code",
      "source": [
        "embedding_matrix = np.random.uniform(-1,1,(num_encoder_words, embedding_size))\n",
        "for word, i in tokenizer_src.word_index.items():\n",
        "  if i < num_encoder_words:\n",
        "    embedding_vector = word2vec.get(word)\n",
        "    if embedding_vector is not None:\n",
        "      embedding_matrix[i] = embedding_vector"
      ],
      "metadata": {
        "id": "uVdKIXH8Ol8T"
      },
      "execution_count": null,
      "outputs": []
    },
    {
      "cell_type": "code",
      "source": [
        "embedding_matrix.shape"
      ],
      "metadata": {
        "colab": {
          "base_uri": "https://localhost:8080/"
        },
        "id": "r40UlDPmPF4-",
        "outputId": "c620e514-bfa6-4ba3-c7a7-9fe2a0dc862c"
      },
      "execution_count": null,
      "outputs": [
        {
          "output_type": "execute_result",
          "data": {
            "text/plain": [
              "(21315, 100)"
            ]
          },
          "metadata": {},
          "execution_count": 41
        }
      ]
    },
    {
      "cell_type": "code",
      "source": [
        "encoder_input = Input(shape=(None,), name=\"encoder_input\")"
      ],
      "metadata": {
        "id": "rvX3V3PXPF3E"
      },
      "execution_count": null,
      "outputs": []
    },
    {
      "cell_type": "code",
      "source": [
        "encoder_embedding = Embedding(input_dim=num_encoder_words,\n",
        "                              output_dim=embedding_size,\n",
        "                              weights=[embedding_matrix],\n",
        "                              trainable=True,\n",
        "                              name=\"encoder_embedding\")"
      ],
      "metadata": {
        "id": "fVAs9aJHPF1F"
      },
      "execution_count": null,
      "outputs": []
    },
    {
      "cell_type": "code",
      "source": [
        "state_size = 256"
      ],
      "metadata": {
        "id": "lbrDzl_vQKor"
      },
      "execution_count": null,
      "outputs": []
    },
    {
      "cell_type": "code",
      "source": [
        "encoder_gru1 = GRU(state_size, name=\"encoder_gru1\", return_sequences=True)\n",
        "encoder_gru2 = GRU(state_size, name=\"encoder_gru2\", return_sequences=True)\n",
        "encoder_gru3 = GRU(state_size, name=\"encoder_gru3\", return_sequences=False)"
      ],
      "metadata": {
        "id": "DSCTSGWQQM8-"
      },
      "execution_count": null,
      "outputs": []
    },
    {
      "cell_type": "code",
      "source": [
        "def connect_encoder():\n",
        "  net = encoder_input\n",
        "  net = encoder_embedding(net)\n",
        "  net = encoder_gru1(net)\n",
        "  net = encoder_gru2(net)\n",
        "  net = encoder_gru3(net)\n",
        "  encoder_output = net\n",
        "  return encoder_output"
      ],
      "metadata": {
        "id": "41avnWpCQM67"
      },
      "execution_count": null,
      "outputs": []
    },
    {
      "cell_type": "code",
      "source": [
        "encoder_output = connect_encoder()"
      ],
      "metadata": {
        "id": "GtTrAoLsQ9Hu"
      },
      "execution_count": null,
      "outputs": []
    },
    {
      "cell_type": "code",
      "source": [
        "decoder_initial_state = Input(shape=(state_size), name=\"decoder_initial_state\")"
      ],
      "metadata": {
        "id": "r0b-QleeRIwx"
      },
      "execution_count": null,
      "outputs": []
    },
    {
      "cell_type": "code",
      "source": [
        "decoder_input = Input(shape=(None,), name=\"decoder_input\")"
      ],
      "metadata": {
        "id": "d6wt1rmwRIth"
      },
      "execution_count": null,
      "outputs": []
    },
    {
      "cell_type": "code",
      "source": [
        "decoder_embedding = Embedding(input_dim=num_decoder_words,\n",
        "                              output_dim=embedding_size,\n",
        "                              name=\"decoder_embedding\")"
      ],
      "metadata": {
        "id": "_ICVYsjGRUYr"
      },
      "execution_count": null,
      "outputs": []
    },
    {
      "cell_type": "code",
      "source": [
        "decoder_gru1 = GRU(state_size, name=\"decoder_gru1\", return_sequences=True)\n",
        "decoder_gru2 = GRU(state_size, name=\"decoder_gru2\", return_sequences=True)\n",
        "decoder_gru3 = GRU(state_size, name=\"decoder_gru3\", return_sequences=True)"
      ],
      "metadata": {
        "id": "oWhc1FTERhd1"
      },
      "execution_count": null,
      "outputs": []
    },
    {
      "cell_type": "code",
      "source": [
        "decoder_dense = Dense(num_decoder_words,\n",
        "                      activation=\"linear\",\n",
        "                      name=\"decoder_output\")"
      ],
      "metadata": {
        "id": "3cLO_aQlR0rO"
      },
      "execution_count": null,
      "outputs": []
    },
    {
      "cell_type": "code",
      "source": [
        "def connect_decoder(initial_state):\n",
        "  net = decoder_input\n",
        "  net = decoder_embedding(net)\n",
        "  net = decoder_gru1(net, initial_state=initial_state)\n",
        "  net = decoder_gru2(net, initial_state=initial_state)\n",
        "  net = decoder_gru3(net, initial_state=initial_state)\n",
        "  decoder_output = decoder_dense(net)\n",
        "  return decoder_output"
      ],
      "metadata": {
        "id": "eOOlf-LKR8_N"
      },
      "execution_count": null,
      "outputs": []
    },
    {
      "cell_type": "code",
      "source": [
        "decoder_output = connect_decoder(initial_state=encoder_output)\n",
        "\n",
        "model_train = Model(inputs=[encoder_input, decoder_input], outputs=[decoder_output])"
      ],
      "metadata": {
        "id": "XWtxB_b-SQqp"
      },
      "execution_count": null,
      "outputs": []
    },
    {
      "cell_type": "code",
      "source": [
        "model_encoder = Model(inputs=[encoder_input], outputs=[encoder_output])"
      ],
      "metadata": {
        "id": "z7uMUrmESQok"
      },
      "execution_count": null,
      "outputs": []
    },
    {
      "cell_type": "code",
      "source": [
        "decoder_output = connect_decoder(initial_state=decoder_initial_state)\n",
        "\n",
        "model_decoder = Model(inputs=[decoder_input, decoder_initial_state], outputs=[decoder_output])"
      ],
      "metadata": {
        "id": "yeXxRT9ZSzlF"
      },
      "execution_count": null,
      "outputs": []
    },
    {
      "cell_type": "code",
      "source": [
        "def sparse_cross_entropy(y_true, y_pred):\n",
        "  loss = tf.nn.sparse_softmax_cross_entropy_with_logits(labels=y_true, logits=y_pred)\n",
        "  loss_mean = tf.reduce_mean(loss)\n",
        "  return loss_mean"
      ],
      "metadata": {
        "id": "h9KD3LD4SziU"
      },
      "execution_count": null,
      "outputs": []
    },
    {
      "cell_type": "code",
      "source": [
        "optimizer = RMSprop(learning_rate=1e-3)"
      ],
      "metadata": {
        "id": "ALbh6WHTTZ7v"
      },
      "execution_count": null,
      "outputs": []
    },
    {
      "cell_type": "code",
      "source": [
        "#decoder_target = tf.compat.v1.placeholder(dtype=\"int32\", shape=(None,None))\n",
        "decoder_target = tf.keras.Input(shape=(None, None), dtype=tf.int32)"
      ],
      "metadata": {
        "id": "MPFqlrjrTer6"
      },
      "execution_count": null,
      "outputs": []
    },
    {
      "cell_type": "code",
      "source": [
        "# model_train.compile(\n",
        "#     optimizer=optimizer,\n",
        "#     loss=sparse_cross_entropy,\n",
        "#     target_tensors=[decoder_target]\n",
        "# )\n",
        "\n",
        "model_train.compile(\n",
        "    optimizer=optimizer,\n",
        "    loss=sparse_cross_entropy\n",
        ")"
      ],
      "metadata": {
        "id": "nqup_OFKTep1"
      },
      "execution_count": null,
      "outputs": []
    },
    {
      "cell_type": "code",
      "source": [
        "path_checkpoint = \"checkpoint.keras\"\n",
        "checkpoint = ModelCheckpoint(filepath=path_checkpoint, save_weights_only=True)"
      ],
      "metadata": {
        "id": "4NvY_hz9Tenw"
      },
      "execution_count": null,
      "outputs": []
    },
    {
      "cell_type": "code",
      "source": [
        "open(path_checkpoint, 'a').close()"
      ],
      "metadata": {
        "id": "kbtj-eiBchRg"
      },
      "execution_count": null,
      "outputs": []
    },
    {
      "cell_type": "code",
      "source": [
        "try:\n",
        "  model_train.load_weights(path_checkpoint)\n",
        "except Exception as error:\n",
        "  print(\"Checkpoint yüklenirken hata oluştu. Eğitime sıfırdan başlanıyor.\")\n",
        "  print(error)"
      ],
      "metadata": {
        "colab": {
          "base_uri": "https://localhost:8080/"
        },
        "id": "7CMSwKEDUGuG",
        "outputId": "f9f64fc1-82fe-4b0d-9aae-dc78e1be5e7e"
      },
      "execution_count": null,
      "outputs": [
        {
          "output_type": "stream",
          "name": "stdout",
          "text": [
            "Checkpoint yüklenirken hata oluştu. Eğitime sıfırdan başlanıyor.\n",
            "Unable to open file (file signature not found)\n"
          ]
        }
      ]
    },
    {
      "cell_type": "code",
      "source": [
        "x_data = {\"encoder_input\" : encoder_input_data, \"decoder_input\" : decoder_input_data}"
      ],
      "metadata": {
        "id": "_lHkCULHUGsE"
      },
      "execution_count": null,
      "outputs": []
    },
    {
      "cell_type": "code",
      "source": [
        "y_data = {\"decoder_output\" : decoder_output_data}"
      ],
      "metadata": {
        "id": "68py3HrgUe-o"
      },
      "execution_count": null,
      "outputs": []
    },
    {
      "cell_type": "code",
      "source": [
        "model_train.fit(x=x_data,\n",
        "                y=y_data,\n",
        "                batch_size=256,\n",
        "                epochs=0,\n",
        "                callbacks=[checkpoint])"
      ],
      "metadata": {
        "colab": {
          "base_uri": "https://localhost:8080/"
        },
        "id": "-cPwRn2HUqCi",
        "outputId": "a65d952d-3343-4bb9-bcaa-b4146fadff3a"
      },
      "execution_count": null,
      "outputs": [
        {
          "output_type": "execute_result",
          "data": {
            "text/plain": [
              "<keras.src.callbacks.History at 0x789fddf33f40>"
            ]
          },
          "metadata": {},
          "execution_count": 84
        }
      ]
    },
    {
      "cell_type": "code",
      "source": [
        "def translate(input_text, true_output_text=None):\n",
        "    input_tokens = tokenizer_src.text_to_tokens(text=input_text,\n",
        "                                                reverse=True,\n",
        "                                                padding='pre')\n",
        "\n",
        "    initial_state = model_encoder.predict(input_tokens)\n",
        "\n",
        "    max_tokens = tokenizer_dest.max_tokens\n",
        "\n",
        "    decoder_input_data = np.zeros(shape=(1, max_tokens), dtype=np.int)\n",
        "\n",
        "    token_int = token_start\n",
        "    output_text = ''\n",
        "    count_tokens = 0\n",
        "\n",
        "    while token_int != token_end and count_tokens < max_tokens:\n",
        "        decoder_input_data[0, count_tokens] = token_int\n",
        "        x_data = {'decoder_initial_state': initial_state, 'decoder_input': decoder_input_data}\n",
        "\n",
        "        decoder_output = model_decoder.predict(x_data)\n",
        "\n",
        "        token_onehot = decoder_output[0, count_tokens, :]\n",
        "        token_int = np.argmax(token_onehot)\n",
        "\n",
        "        sampled_word = tokenizer_dest.token_to_word(token_int)\n",
        "        output_text += ' ' + sampled_word\n",
        "        count_tokens += 1\n",
        "\n",
        "    print('Input text:')\n",
        "    print(input_text)\n",
        "    print()\n",
        "\n",
        "    print('Translated text:')\n",
        "    print(output_text)\n",
        "    print()\n",
        "\n",
        "    if true_output_text is not None:\n",
        "        print('True output text:')\n",
        "        print(true_output_text)\n",
        "        print()"
      ],
      "metadata": {
        "id": "RP5EKIhyVr97"
      },
      "execution_count": null,
      "outputs": []
    },
    {
      "cell_type": "code",
      "source": [
        "translate(input_text=data_src[400000], true_output_text=data_dest[400000])"
      ],
      "metadata": {
        "colab": {
          "base_uri": "https://localhost:8080/"
        },
        "id": "8I6NV8mOVtCP",
        "outputId": "f24c5fa0-1872-490f-ae28-66d838f1ee03"
      },
      "execution_count": null,
      "outputs": [
        {
          "output_type": "stream",
          "name": "stdout",
          "text": [
            "1/1 [==============================] - 5s 5s/step\n"
          ]
        },
        {
          "output_type": "stream",
          "name": "stderr",
          "text": [
            "<ipython-input-85-6f79080a9e3f>:10: DeprecationWarning: `np.int` is a deprecated alias for the builtin `int`. To silence this warning, use `int` by itself. Doing this will not modify any behavior and is safe. When replacing `np.int`, you may wish to use e.g. `np.int64` or `np.int32` to specify the precision. If you wish to review your current use, check the release note link for additional information.\n",
            "Deprecated in NumPy 1.20; for more details and guidance: https://numpy.org/devdocs/release/1.20.0-notes.html#deprecations\n",
            "  decoder_input_data = np.zeros(shape=(1, max_tokens), dtype=np.int)\n"
          ]
        },
        {
          "output_type": "stream",
          "name": "stdout",
          "text": [
            "1/1 [==============================] - 1s 795ms/step\n",
            "1/1 [==============================] - 0s 19ms/step\n",
            "1/1 [==============================] - 0s 21ms/step\n",
            "1/1 [==============================] - 0s 21ms/step\n",
            "1/1 [==============================] - 0s 21ms/step\n",
            "1/1 [==============================] - 0s 25ms/step\n",
            "1/1 [==============================] - 0s 20ms/step\n",
            "1/1 [==============================] - 0s 23ms/step\n",
            "1/1 [==============================] - 0s 22ms/step\n",
            "1/1 [==============================] - 0s 21ms/step\n",
            "Input text:\n",
            "You are telling it second hand, aren't you?\n",
            "\n",
            "Translated text:\n",
            " yeniği ilgileneceksin ilgileneceksin istenen istenen istenen istenen birbirimiz sitesinde sitesinde\n",
            "\n",
            "True output text:\n",
            "xxxx Onu dolaylı olarak anlatıyorsun, değil mi? yyyy\n",
            "\n"
          ]
        }
      ]
    },
    {
      "cell_type": "code",
      "source": [
        "translate(input_text=\"Which road leads to the airport?\")"
      ],
      "metadata": {
        "colab": {
          "base_uri": "https://localhost:8080/"
        },
        "id": "jrNhIRnCV238",
        "outputId": "23fc8ed7-b25a-44f1-9a57-03f9e2ff9e11"
      },
      "execution_count": null,
      "outputs": [
        {
          "output_type": "stream",
          "name": "stdout",
          "text": [
            "1/1 [==============================] - 0s 21ms/step\n",
            "1/1 [==============================] - 0s 23ms/step\n",
            "1/1 [==============================] - 0s 21ms/step\n",
            "1/1 [==============================] - 0s 19ms/step\n"
          ]
        },
        {
          "output_type": "stream",
          "name": "stderr",
          "text": [
            "<ipython-input-85-6f79080a9e3f>:10: DeprecationWarning: `np.int` is a deprecated alias for the builtin `int`. To silence this warning, use `int` by itself. Doing this will not modify any behavior and is safe. When replacing `np.int`, you may wish to use e.g. `np.int64` or `np.int32` to specify the precision. If you wish to review your current use, check the release note link for additional information.\n",
            "Deprecated in NumPy 1.20; for more details and guidance: https://numpy.org/devdocs/release/1.20.0-notes.html#deprecations\n",
            "  decoder_input_data = np.zeros(shape=(1, max_tokens), dtype=np.int)\n"
          ]
        },
        {
          "output_type": "stream",
          "name": "stdout",
          "text": [
            "1/1 [==============================] - 0s 21ms/step\n",
            "1/1 [==============================] - 0s 21ms/step\n",
            "1/1 [==============================] - 0s 21ms/step\n",
            "1/1 [==============================] - 0s 20ms/step\n",
            "1/1 [==============================] - 0s 18ms/step\n",
            "1/1 [==============================] - 0s 20ms/step\n",
            "1/1 [==============================] - 0s 20ms/step\n",
            "Input text:\n",
            "Which road leads to the airport?\n",
            "\n",
            "Translated text:\n",
            " alacaklar götürülüyorum götürülüyorum dokunulmazlığım istenen istenen istenen usanıyorum yazardınız oluşturmadım\n",
            "\n"
          ]
        }
      ]
    }
  ]
}